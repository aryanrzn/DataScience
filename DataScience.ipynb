{
  "nbformat": 4,
  "nbformat_minor": 0,
  "metadata": {
    "colab": {
      "provenance": []
    },
    "kernelspec": {
      "name": "python3",
      "display_name": "Python 3"
    },
    "language_info": {
      "name": "python"
    }
  },
  "cells": [
    {
      "cell_type": "markdown",
      "source": [
        "# Data Science Final Project."
      ],
      "metadata": {
        "id": "GeQMAfeu8Gk4"
      }
    },
    {
      "cell_type": "markdown",
      "source": [
        "## Introduction\n",
        "\n",
        "This is the final project."
      ],
      "metadata": {
        "id": "Fxf8agge8ThR"
      }
    },
    {
      "cell_type": "markdown",
      "source": [
        "## Data Science Languages\n",
        "1. Python\n",
        "2. R\n",
        "3. SQL\n"
      ],
      "metadata": {
        "id": "-paprsnm8aNq"
      }
    },
    {
      "cell_type": "markdown",
      "source": [
        "## Data Science Libraries\n",
        "1. NumPy\n",
        "2. Pandas\n",
        "3. Matplotlib\n",
        "4. Scikit-learn\n"
      ],
      "metadata": {
        "id": "JPBSAoNc8dE-"
      }
    },
    {
      "cell_type": "markdown",
      "source": [
        "## Data Science Tools\n",
        "| Tool           | Purpose                  |\n",
        "|----------------|--------------------------|\n",
        "| Jupyter Notebook | Interactive coding       |\n",
        "| RStudio         | Statistical analysis     |\n",
        "| Apache Spark    | Big Data processing      |\n"
      ],
      "metadata": {
        "id": "okiU6hJg8fx5"
      }
    },
    {
      "cell_type": "markdown",
      "source": [
        "## Arithmetic Expression Examples\n",
        "Here are examples of basic arithmetic operations such as addition, subtraction, multiplication, and division.\n"
      ],
      "metadata": {
        "id": "3RZpAQYY8jK0"
      }
    },
    {
      "cell_type": "code",
      "source": [
        "# Multiply and add numbers\n",
        "result = (3 * 4) + 5\n",
        "print(\"The result is:\", result)"
      ],
      "metadata": {
        "colab": {
          "base_uri": "https://localhost:8080/"
        },
        "id": "JA0LNthR8I_T",
        "outputId": "253f10e6-0d14-4a41-c5de-503611bc244a"
      },
      "execution_count": 1,
      "outputs": [
        {
          "output_type": "stream",
          "name": "stdout",
          "text": [
            "The result is: 17\n"
          ]
        }
      ]
    },
    {
      "cell_type": "code",
      "source": [
        "# Convert minutes to hours\n",
        "minutes = 120\n",
        "hours = minutes / 60\n",
        "print(f\"{minutes} minutes is equal to {hours} hours.\")\n"
      ],
      "metadata": {
        "colab": {
          "base_uri": "https://localhost:8080/"
        },
        "id": "-6seEsuE8peO",
        "outputId": "9a2bac9c-efde-4253-bac6-056ca4e55ffa"
      },
      "execution_count": 2,
      "outputs": [
        {
          "output_type": "stream",
          "name": "stdout",
          "text": [
            "120 minutes is equal to 2.0 hours.\n"
          ]
        }
      ]
    },
    {
      "cell_type": "markdown",
      "source": [
        "## Objectives\n",
        "- Learn Data Science languages\n",
        "- Understand libraries and tools\n",
        "- Apply arithmetic expressions\n",
        "- Share and present notebooks\n"
      ],
      "metadata": {
        "id": "SsObytwA8rig"
      }
    },
    {
      "cell_type": "markdown",
      "source": [
        "## Author\n",
        "- Aryan Rezanezhad"
      ],
      "metadata": {
        "id": "7cAJboBZ8uJb"
      }
    }
  ]
}